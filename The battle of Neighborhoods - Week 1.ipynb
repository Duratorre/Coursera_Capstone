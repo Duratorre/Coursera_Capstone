{
 "cells": [
  {
   "cell_type": "markdown",
   "metadata": {},
   "source": [
    "# The battle of Neighborhoods - Week 1\n",
    "### Capstone Project - IBM Data Science Professional Certificate"
   ]
  },
  {
   "cell_type": "markdown",
   "metadata": {},
   "source": [
    "## Introduction: Business Problem"
   ]
  },
  {
   "cell_type": "markdown",
   "metadata": {},
   "source": [
    "In this project we will try to find the best location to **open a restaurant in the city of Milan.** \n",
    "\n",
    "In Milan there a lot of restaurants, each specialized in a particular cuisine, like Italian, Japanese, Chinese, Indian, Brazilian. Our objective is to **find locations that are not well covered with restaurants**, and also we want to discover the **type of cuisine which is still missing or is less present in those locations**, in order to have the least competition when opening the new restaurant.\n",
    "\n",
    "We will analyze the top venues around the potential locations and determine what type of cuisine our restaurant should serve in each location, and **decide the best one based on the number of potential customers** (i.e. how much popular is the type of cuisine in the other Neighborhoods and how close to the city center each potential location is)."
   ]
  },
  {
   "cell_type": "markdown",
   "metadata": {},
   "source": [
    "## Data"
   ]
  },
  {
   "cell_type": "markdown",
   "metadata": {},
   "source": [
    "We will take into consideration the following aspects:\n",
    "* number of already existing restaurants around each location/neighborhood;\n",
    "* most popular restaurants and their type of cuisine in each location/neighborhood;\n",
    "* distance of each neighborhood from the city center\n",
    "    \n",
    "We will divide the city into neighborhoods, based on a geojson file provided by the municipality's website of the city of Milan with the coordinates of the neighborhoods given. With the coordinates values, we will be able to determine the center of each neighborhood and its distance from the city center. \n",
    "\n",
    "We will use **Foursquare API** to retrieve the number of restaurants and their type in each neighborhood, and also to get the most popular restaurants in every location, so as to choose the candidate cuisine for our restaurant."
   ]
  },
  {
   "cell_type": "code",
   "execution_count": null,
   "metadata": {},
   "outputs": [],
   "source": []
  }
 ],
 "metadata": {
  "kernelspec": {
   "display_name": "Python 3",
   "language": "python",
   "name": "python3"
  },
  "language_info": {
   "codemirror_mode": {
    "name": "ipython",
    "version": 3
   },
   "file_extension": ".py",
   "mimetype": "text/x-python",
   "name": "python",
   "nbconvert_exporter": "python",
   "pygments_lexer": "ipython3",
   "version": "3.6.8"
  }
 },
 "nbformat": 4,
 "nbformat_minor": 2
}
